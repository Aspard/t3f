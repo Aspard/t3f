{
 "cells": [
  {
   "cell_type": "code",
   "execution_count": 6,
   "metadata": {},
   "outputs": [],
   "source": [
    "import pickle\n",
    "import pandas as pd\n",
    "import tabulate"
   ]
  },
  {
   "cell_type": "code",
   "execution_count": 2,
   "metadata": {},
   "outputs": [],
   "source": [
    "def pickle_load(path):\n",
    "    with open(path, 'rb') as f:\n",
    "        return pickle.load(f)\n",
    "\n",
    "    \n",
    "def load(t3f_cpu_path, t3f_gpu_path, ttpy_path=None):\n",
    "    cpu = pickle_load(t3f_cpu_path)\n",
    "    gpu = pickle_load(t3f_gpu_path)\n",
    "    d = {}\n",
    "    op_list = ['matvec', 'matmul', 'norm', 'round', 'gram', 'project_rank100']\n",
    "    \n",
    "    one_cpu = []\n",
    "    for op in op_list:\n",
    "        if op == 'gram':\n",
    "            # Single element Gram matrix is flat inner.\n",
    "            curr_time = cpu['flatinner']['wall_time'] * 1000\n",
    "        else:\n",
    "            curr_time = cpu[op]['wall_time'] * 1000\n",
    "        one_cpu.append(curr_time)\n",
    "    d['one on CPU'] = one_cpu\n",
    "    \n",
    "    one_gpu = []\n",
    "    for op in op_list:\n",
    "        if op == 'gram':\n",
    "            # Single element Gram matrix is flat inner.\n",
    "            curr_time = gpu['flatinner']['wall_time'] * 1000\n",
    "        else:\n",
    "            curr_time = gpu[op]['wall_time'] * 1000\n",
    "        one_gpu.append(curr_time)\n",
    "    d['one on GPU'] = one_gpu\n",
    "    \n",
    "    batch_cpu = []\n",
    "    for op in op_list:\n",
    "        if op == 'gram':\n",
    "            curr_time = cpu['batch_gram']['wall_time'] * 1000 / 100**2\n",
    "        else:\n",
    "            curr_time = cpu['batch_' + op]['wall_time'] * 1000 / 100\n",
    "        batch_cpu.append(curr_time)\n",
    "    d['batch on CPU'] = batch_cpu\n",
    "    \n",
    "    batch_gpu = []\n",
    "    for op in op_list:\n",
    "        if op == 'gram':\n",
    "            curr_time = gpu['batch_gram']['wall_time'] * 1000 / 100.**2\n",
    "        else:\n",
    "            curr_time = gpu['batch_' + op]['wall_time'] * 1000 / 100.\n",
    "#         curr_time = gpu['batch_' + op + '_time'] * 1000\n",
    "        batch_gpu.append(curr_time)\n",
    "    d['batch on GPU'] = batch_gpu\n",
    "    \n",
    "    if ttpy_path:\n",
    "        ttpy = pickle_load(ttpy_path)\n",
    "        ttpy_col = []\n",
    "        for op in op_list:\n",
    "            if op == 'gram':\n",
    "                # Single element Gram matrix is flat inner.\n",
    "                curr_time = ttpy['flatinner_time'] * 1000\n",
    "            else:\n",
    "                curr_time = ttpy[op + '_time'] * 1000\n",
    "            ttpy_col.append(curr_time)\n",
    "    d['ttpy, one on CPU'] = ttpy_col\n",
    "    \n",
    "    df = pd.DataFrame(d, index=op_list)\n",
    "    regime_list = ['one on CPU', 'one on GPU', 'batch on CPU', 'batch on GPU']\n",
    "    if ttpy_path:\n",
    "        regime_list = ['ttpy, one on CPU'] + regime_list\n",
    "    df = df[regime_list]\n",
    "    return df"
   ]
  },
  {
   "cell_type": "code",
   "execution_count": 3,
   "metadata": {},
   "outputs": [],
   "source": [
    "df = load('logs_cpu.pkl', 'logs_gpu.pkl', ttpy_path='logs_ttpy.pkl')"
   ]
  },
  {
   "cell_type": "code",
   "execution_count": 4,
   "metadata": {},
   "outputs": [
    {
     "data": {
      "text/html": [
       "<div>\n",
       "<style scoped>\n",
       "    .dataframe tbody tr th:only-of-type {\n",
       "        vertical-align: middle;\n",
       "    }\n",
       "\n",
       "    .dataframe tbody tr th {\n",
       "        vertical-align: top;\n",
       "    }\n",
       "\n",
       "    .dataframe thead th {\n",
       "        text-align: right;\n",
       "    }\n",
       "</style>\n",
       "<table border=\"1\" class=\"dataframe\">\n",
       "  <thead>\n",
       "    <tr style=\"text-align: right;\">\n",
       "      <th></th>\n",
       "      <th>ttpy, one on CPU</th>\n",
       "      <th>one on CPU</th>\n",
       "      <th>one on GPU</th>\n",
       "      <th>batch on CPU</th>\n",
       "      <th>batch on GPU</th>\n",
       "    </tr>\n",
       "  </thead>\n",
       "  <tbody>\n",
       "    <tr>\n",
       "      <th>matvec</th>\n",
       "      <td>11.142</td>\n",
       "      <td>1.190</td>\n",
       "      <td>0.744</td>\n",
       "      <td>1.885</td>\n",
       "      <td>0.140</td>\n",
       "    </tr>\n",
       "    <tr>\n",
       "      <th>matmul</th>\n",
       "      <td>86.191</td>\n",
       "      <td>9.849</td>\n",
       "      <td>0.950</td>\n",
       "      <td>17.483</td>\n",
       "      <td>1.461</td>\n",
       "    </tr>\n",
       "    <tr>\n",
       "      <th>norm</th>\n",
       "      <td>3.790</td>\n",
       "      <td>2.136</td>\n",
       "      <td>1.019</td>\n",
       "      <td>0.253</td>\n",
       "      <td>0.044</td>\n",
       "    </tr>\n",
       "    <tr>\n",
       "      <th>round</th>\n",
       "      <td>73.027</td>\n",
       "      <td>86.040</td>\n",
       "      <td>165.969</td>\n",
       "      <td>8.234</td>\n",
       "      <td>161.102</td>\n",
       "    </tr>\n",
       "    <tr>\n",
       "      <th>gram</th>\n",
       "      <td>0.145</td>\n",
       "      <td>0.606</td>\n",
       "      <td>0.973</td>\n",
       "      <td>0.021</td>\n",
       "      <td>0.001</td>\n",
       "    </tr>\n",
       "    <tr>\n",
       "      <th>project_rank100</th>\n",
       "      <td>116.868</td>\n",
       "      <td>3.001</td>\n",
       "      <td>13.239</td>\n",
       "      <td>1.645</td>\n",
       "      <td>0.226</td>\n",
       "    </tr>\n",
       "  </tbody>\n",
       "</table>\n",
       "</div>"
      ],
      "text/plain": [
       "                 ttpy, one on CPU  one on CPU  one on GPU  batch on CPU  \\\n",
       "matvec                     11.142       1.190       0.744         1.885   \n",
       "matmul                     86.191       9.849       0.950        17.483   \n",
       "norm                        3.790       2.136       1.019         0.253   \n",
       "round                      73.027      86.040     165.969         8.234   \n",
       "gram                        0.145       0.606       0.973         0.021   \n",
       "project_rank100           116.868       3.001      13.239         1.645   \n",
       "\n",
       "                 batch on GPU  \n",
       "matvec                  0.140  \n",
       "matmul                  1.461  \n",
       "norm                    0.044  \n",
       "round                 161.102  \n",
       "gram                    0.001  \n",
       "project_rank100         0.226  "
      ]
     },
     "execution_count": 4,
     "metadata": {},
     "output_type": "execute_result"
    }
   ],
   "source": [
    "df.round(decimals=3)"
   ]
  },
  {
   "cell_type": "code",
   "execution_count": 5,
   "metadata": {},
   "outputs": [
    {
     "name": "stdout",
     "output_type": "stream",
     "text": [
      "\\begin{tabular}{lrrrrr}\n",
      "\\toprule\n",
      "{} &  ttpy, one on CPU &  one on CPU &  one on GPU &  batch on CPU &  batch on GPU \\\\\n",
      "\\midrule\n",
      "matvec          &            11.142 &       1.190 &       0.744 &         1.885 &         0.140 \\\\\n",
      "matmul          &            86.191 &       9.849 &       0.950 &        17.483 &         1.461 \\\\\n",
      "norm            &             3.790 &       2.136 &       1.019 &         0.253 &         0.044 \\\\\n",
      "round           &            73.027 &      86.040 &     165.969 &         8.234 &       161.102 \\\\\n",
      "gram            &             0.145 &       0.606 &       0.973 &         0.021 &         0.001 \\\\\n",
      "project\\_rank100 &           116.868 &       3.001 &      13.239 &         1.645 &         0.226 \\\\\n",
      "\\bottomrule\n",
      "\\end{tabular}\n",
      "\n"
     ]
    }
   ],
   "source": [
    "print(df.round(decimals=3).to_latex())"
   ]
  },
  {
   "cell_type": "code",
   "execution_count": 10,
   "metadata": {},
   "outputs": [
    {
     "name": "stdout",
     "output_type": "stream",
     "text": [
      "===============  ==================  ============  ============  ==============  ==============\n",
      "..                 ttpy, one on CPU    one on CPU    one on GPU    batch on CPU    batch on GPU\n",
      "===============  ==================  ============  ============  ==============  ==============\n",
      "matvec                       11.142         1.19          0.744           1.885           0.14\n",
      "matmul                       86.191         9.849         0.95           17.483           1.461\n",
      "norm                          3.79          2.136         1.019           0.253           0.044\n",
      "round                        73.027        86.04        165.969           8.234         161.102\n",
      "gram                          0.145         0.606         0.973           0.021           0.001\n",
      "project_rank100             116.868         3.001        13.239           1.645           0.226\n",
      "===============  ==================  ============  ============  ==============  ==============\n"
     ]
    }
   ],
   "source": [
    "print(tabulate.tabulate(df.round(decimals=3), headers=df.keys(), tablefmt=\"rst\"))"
   ]
  },
  {
   "cell_type": "code",
   "execution_count": null,
   "metadata": {},
   "outputs": [],
   "source": []
  }
 ],
 "metadata": {
  "kernelspec": {
   "display_name": "Python 3",
   "language": "python",
   "name": "python3"
  },
  "language_info": {
   "codemirror_mode": {
    "name": "ipython",
    "version": 3
   },
   "file_extension": ".py",
   "mimetype": "text/x-python",
   "name": "python",
   "nbconvert_exporter": "python",
   "pygments_lexer": "ipython3",
   "version": "3.6.5"
  }
 },
 "nbformat": 4,
 "nbformat_minor": 2
}
