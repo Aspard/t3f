{
 "cells": [
  {
   "cell_type": "markdown",
   "metadata": {},
   "source": [
    "# Tensor completion\n",
    "In this example we will see how can we do tensor completion with t3f, i.e. observe a fraction of values in a tensor and recover the rest by assuming that the original tensor has low TT-rank.\n",
    "\n",
    "Mathematically it means that we have a binary mask $P$ and a ground truth tensor A, but we observe only a noisy and sparsified version of $A$: $P \\odot (\\hat{A})$, where $\\odot$ is elementwise product (applying the binary mask) and $\\hat{A} = A + \\text{noise}$. In this case our task reduces to the following optimization problem:\n",
    "$\n",
    "\\begin{equation*}\n",
    "\\begin{aligned}\n",
    "& \\underset{x}{\\text{minimize}}\n",
    "& & \\|P \\odot (X - \\hat{A})\\|_F^2 \\\\\n",
    "& \\text{subject to}\n",
    "& & \\text{tt-rank}(X) \\leq r_0.\n",
    "\\end{aligned}\n",
    "\\end{equation*}\n",
    "$\n",
    "\n",
    "Here by $\\|\\cdot\\|_F^2$ we mean tensor Frobenius norm -- sum of squares of all elements."
   ]
  },
  {
   "cell_type": "code",
   "execution_count": 1,
   "metadata": {
    "collapsed": true
   },
   "outputs": [],
   "source": [
    "import numpy as np\n",
    "import tensorflow as tf\n",
    "import t3f\n",
    "\n",
    "%matplotlib inline\n",
    "import matplotlib.pylab as plt"
   ]
  },
  {
   "cell_type": "markdown",
   "metadata": {},
   "source": [
    "### Generating problem instance\n",
    "Lets generate a random matrix $A$, noise, and mask $P$."
   ]
  },
  {
   "cell_type": "code",
   "execution_count": 2,
   "metadata": {
    "collapsed": false
   },
   "outputs": [],
   "source": [
    "shape = (3, 4, 4, 5, 7, 5)\n",
    "# Fix random seed so the results are comparable between runs.\n",
    "tf.set_random_seed(0)\n",
    "# Generate ground truth tensor A. To make sure that it has low TT-rank,\n",
    "# let's generate a random tt-rank 5 tensor and apply t3f.full to it to convert to actual tensor.\n",
    "ground_truth = t3f.full(t3f.random_tensor(shape, tt_rank=5))\n",
    "# Make a (non trainable) variable out of ground truth. Otherwise, it will be randomly regenerated on each sess.run.\n",
    "ground_truth = tf.get_variable('ground_truth', initializer=ground_truth, trainable=False)\n",
    "noise = tf.get_variable('noise', initializer=tf.random_normal(shape), trainable=False)\n",
    "noisy_ground_truth = ground_truth + noise\n",
    "# Observe 30% of the tensor values.\n",
    "sparsity_mask = tf.cast(tf.random_uniform(shape) <= 0.3, tf.float32)\n",
    "sparsity_mask = tf.get_variable('sparsity_mask', initializer=sparsity_mask, trainable=False)\n",
    "sparse_observation = noisy_ground_truth * sparsity_mask"
   ]
  },
  {
   "cell_type": "markdown",
   "metadata": {},
   "source": [
    "### Initialize the variable and compute the loss"
   ]
  },
  {
   "cell_type": "code",
   "execution_count": 3,
   "metadata": {
    "collapsed": false
   },
   "outputs": [],
   "source": [
    "initialization = t3f.random_tensor(shape, tt_rank=5)\n",
    "estimated = t3f.get_variable('estimated', initializer=initialization)\n",
    "\n",
    "# Loss is norm squared of the residual between the estimated and ground-truth tensor as computed in the observed cells.\n",
    "loss = tf.norm(sparsity_mask * t3f.full(estimated) - sparse_observation)**2\n",
    "# Test loss is the residual between the estimted tensor and full (and not noisy) ground-truth tensor A.\n",
    "test_loss = tf.norm(t3f.full(estimated) - ground_truth)**2"
   ]
  },
  {
   "cell_type": "markdown",
   "metadata": {},
   "source": [
    "# SGD optimization\n",
    "The simplest way to solve the optimization problem is Stochastic Gradient Descent: let TensorFlow differentiate the loss w.r.t. the factors (cores) of the TensorTrain decomposition of the estimated tensor and minimize the loss with your favourite SGD variation."
   ]
  },
  {
   "cell_type": "code",
   "execution_count": 4,
   "metadata": {
    "collapsed": false
   },
   "outputs": [],
   "source": [
    "optimizer = tf.train.AdamOptimizer(learning_rate=0.001)\n",
    "step = optimizer.minimize(loss)"
   ]
  },
  {
   "cell_type": "code",
   "execution_count": 5,
   "metadata": {
    "collapsed": false,
    "scrolled": true
   },
   "outputs": [
    {
     "name": "stdout",
     "output_type": "stream",
     "text": [
      "(0, 7198503.5, 23626800.0)\n",
      "(100, 5128501.0, 17278660.0)\n",
      "(200, 4603055.0, 15679278.0)\n",
      "(300, 4380938.0, 15016847.0)\n",
      "(400, 4244161.5, 14619845.0)\n",
      "(500, 4113855.5, 14247153.0)\n",
      "(600, 3921088.5, 13678090.0)\n",
      "(700, 3586802.2, 12627898.0)\n",
      "(800, 3136904.5, 11160741.0)\n",
      "(900, 2668648.5, 9641124.0)\n",
      "(1000, 2188287.8, 8125677.5)\n",
      "(1100, 1749057.6, 6759069.5)\n",
      "(1200, 1418328.6, 5652415.5)\n",
      "(1300, 1169852.4, 4751639.0)\n",
      "(1400, 978697.94, 4023898.5)\n",
      "(1500, 829831.38, 3442847.8)\n",
      "(1600, 714472.25, 2989348.2)\n",
      "(1700, 626944.44, 2644288.0)\n",
      "(1800, 560086.5, 2379010.8)\n",
      "(1900, 506546.97, 2164153.0)\n",
      "(2000, 461028.56, 1978531.0)\n",
      "(2100, 419993.88, 1807576.2)\n",
      "(2200, 380778.09, 1639856.9)\n",
      "(2300, 341367.88, 1466855.4)\n",
      "(2400, 300784.38, 1285688.9)\n",
      "(2500, 259681.25, 1102266.0)\n",
      "(2600, 220461.83, 930208.06)\n",
      "(2700, 186051.38, 782576.06)\n",
      "(2800, 157914.28, 663489.5)\n",
      "(2900, 135486.61, 568881.38)\n",
      "(3000, 117334.2, 492531.03)\n",
      "(3100, 102268.48, 429682.5)\n",
      "(3200, 89582.945, 377379.09)\n",
      "(3300, 78867.008, 333725.94)\n",
      "(3400, 69830.227, 297302.69)\n",
      "(3500, 62222.863, 266885.81)\n",
      "(3600, 55814.086, 241370.73)\n",
      "(3700, 50393.371, 219778.06)\n",
      "(3800, 45776.906, 201278.44)\n",
      "(3900, 41810.891, 185203.83)\n",
      "(4000, 38371.117, 171041.47)\n",
      "(4100, 35359.703, 158409.69)\n",
      "(4200, 32700.455, 147031.3)\n",
      "(4300, 30333.949, 136704.08)\n",
      "(4400, 28213.67, 127278.23)\n",
      "(4500, 26302.592, 118638.64)\n",
      "(4600, 24570.691, 110692.24)\n",
      "(4700, 22993.084, 103359.45)\n",
      "(4800, 21548.654, 96569.656)\n",
      "(4900, 20219.104, 90257.797)\n",
      "(5000, 18988.227, 84363.422)\n",
      "(5100, 17841.514, 78829.852)\n",
      "(5200, 16765.789, 73604.922)\n",
      "(5300, 15749.195, 68641.07)\n",
      "(5400, 14781.235, 63897.258)\n",
      "(5500, 13852.948, 59339.527)\n",
      "(5600, 12957.176, 54942.727)\n",
      "(5700, 12088.974, 50691.477)\n",
      "(5800, 11245.784, 46580.164)\n",
      "(5900, 10427.595, 42612.656)\n",
      "(6000, 9636.7373, 38799.984)\n",
      "(6100, 8877.3184, 35157.484)\n",
      "(6200, 8154.3481, 31701.205)\n",
      "(6300, 7472.7578, 28444.494)\n",
      "(6400, 6836.5273, 25396.033)\n",
      "(6500, 6248.2061, 22559.154)\n",
      "(6600, 5708.7842, 19932.988)\n",
      "(6700, 5217.9956, 17514.045)\n",
      "(6800, 4774.6982, 15298.118)\n",
      "(6900, 4377.269, 13281.603)\n",
      "(7000, 4023.835, 11461.527)\n",
      "(7100, 3712.353, 9835.1807)\n",
      "(7200, 3440.5928, 8398.8926)\n",
      "(7300, 3206.064, 7146.9395)\n",
      "(7400, 3005.9866, 6070.771)\n",
      "(7500, 2837.311, 5158.8662)\n",
      "(7600, 2696.7856, 4396.8628)\n",
      "(7700, 2581.0879, 3769.0547)\n",
      "(7800, 2486.936, 3258.3242)\n",
      "(7900, 2411.1987, 2847.915)\n",
      "(8000, 2350.9724, 2522.0596)\n",
      "(8100, 2303.6367, 2266.0916)\n",
      "(8200, 2266.8713, 2067.2319)\n",
      "(8300, 2238.6667, 1914.4657)\n",
      "(8400, 2217.3027, 1798.1234)\n",
      "(8500, 2201.3381, 1710.6112)\n",
      "(8600, 2189.5708, 1645.4644)\n",
      "(8700, 2181.0273, 1597.4659)\n",
      "(8800, 2174.9207, 1562.464)\n",
      "(8900, 2170.6284, 1537.2631)\n",
      "(9000, 2167.6636, 1519.292)\n",
      "(9100, 2165.6553, 1506.6376)\n",
      "(9200, 2164.3223, 1497.7775)\n",
      "(9300, 2163.4563, 1491.6923)\n",
      "(9400, 2162.905, 1487.5133)\n",
      "(9500, 2162.5637, 1484.7067)\n",
      "(9600, 2162.3579, 1482.8202)\n",
      "(9700, 2162.2354, 1481.6208)\n",
      "(9800, 2162.1655, 1480.7811)\n",
      "(9900, 2162.1265, 1480.2524)\n"
     ]
    }
   ],
   "source": [
    "sess = tf.Session()\n",
    "sess.run(tf.global_variables_initializer())\n",
    "train_loss_hist = []\n",
    "test_loss_hist = []\n",
    "for i in range(10000):\n",
    "    _, tr_loss_v, test_loss_v = sess.run([step, loss, test_loss])\n",
    "    train_loss_hist.append(tr_loss_v)\n",
    "    test_loss_hist.append(test_loss_v)\n",
    "    if i % 100 == 0:\n",
    "        print(i, tr_loss_v, test_loss_v)"
   ]
  },
  {
   "cell_type": "code",
   "execution_count": 6,
   "metadata": {
    "collapsed": false
   },
   "outputs": [
    {
     "data": {
      "text/plain": [
       "<matplotlib.legend.Legend at 0x113370790>"
      ]
     },
     "execution_count": 6,
     "metadata": {},
     "output_type": "execute_result"
    },
    {
     "data": {
      "image/png": "[encoded data removed]",
      "text/plain": [
       "<matplotlib.figure.Figure at 0x113211210>"
      ]
     },
     "metadata": {},
     "output_type": "display_data"
    }
   ],
   "source": [
    "plt.loglog(train_loss_hist, label='train')\n",
    "plt.loglog(test_loss_hist, label='test')\n",
    "plt.legend()"
   ]
  },
  {
   "cell_type": "markdown",
   "metadata": {},
   "source": [
    "# Speeding it up\n",
    "The simple solution we have so far assumes that loss is computed by materializing the full estimated tensor and then zeroing out unobserved elements. If the tensors are really large and the fraction of observerd values is small (e.g. less than 1%), it may be much more efficient to directly work only with the observed elements."
   ]
  },
  {
   "cell_type": "code",
   "execution_count": 27,
   "metadata": {
    "collapsed": false
   },
   "outputs": [],
   "source": [
    "# Since now the tensor is too large to work with,\n",
    "# we don't want to generate binary mask,\n",
    "# but we would rather generated indecies of obsrved cells.\n",
    "num_values_total = np.prod(shape)\n",
    "num_observed_values = int(0.3 * num_values_total)\n",
    "np.random.seed(0)\n",
    "observed_indices = np.random.choice(num_values_total, size=num_observed_values, replace=False)\n",
    "observed_values = tf.gather(tf.reshape(noisy_ground_truth, [-1]), observed_indices)\n",
    "# TODO: implement t3f.gather and compute estimated_values.\n",
    "# fast_train_loss = tf.matmul(tf.transpose(observed_values), estimated_values)"
   ]
  },
  {
   "cell_type": "code",
   "execution_count": null,
   "metadata": {
    "collapsed": true
   },
   "outputs": [],
   "source": []
  }
 ],
 "metadata": {
  "kernelspec": {
   "display_name": "Python 2",
   "language": "python",
   "name": "python2"
  },
  "language_info": {
   "codemirror_mode": {
    "name": "ipython",
    "version": 2
   },
   "file_extension": ".py",
   "mimetype": "text/x-python",
   "name": "python",
   "nbconvert_exporter": "python",
   "pygments_lexer": "ipython2",
   "version": "2.7.13"
  }
 },
 "nbformat": 4,
 "nbformat_minor": 2
}
