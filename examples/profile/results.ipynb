{
 "cells": [
  {
   "cell_type": "code",
   "execution_count": 11,
   "metadata": {
    "collapsed": true,
    "deletable": true,
    "editable": true
   },
   "outputs": [],
   "source": [
    "import pickle"
   ]
  },
  {
   "cell_type": "code",
   "execution_count": 13,
   "metadata": {
    "collapsed": false,
    "deletable": true,
    "editable": true
   },
   "outputs": [],
   "source": [
    "gpu = pickle.load(open('profile_logs_gpu.pickle', 'rb'))\n",
    "cpu = pickle.load(open('profile_logs_cpu.pickle', 'rb'))"
   ]
  },
  {
   "cell_type": "code",
   "execution_count": 16,
   "metadata": {
    "collapsed": false,
    "deletable": true,
    "editable": true
   },
   "outputs": [
    {
     "name": "stdout",
     "output_type": "stream",
     "text": [
      "Op & 1 object CPU & 1 object GPU & 100 objects CPU & 100 objects GPU  \\ \\hline\n",
      "matvec & 19 & 2 & 1655 & 81  \\\\ \n",
      "matmul & 147 & 8 & 20938 & 768  \\\\ \n",
      "norm & 5 & 8 & 43 & 38  \\\\ \n",
      "project & 2 & 9 & 106 & 12  \\\\ \n",
      "gram & 8397 & 82 & - & -  \\\\ \n",
      "tt_svd & 15 & 17 & - & -  \\\\ \n"
     ]
    }
   ],
   "source": [
    "print('Op & 1 object CPU & 1 object GPU & 100 objects CPU & 100 objects GPU  \\\\\\\\ \\hline')\n",
    "for op in ['matvec', 'matmul', 'norm', 'project']:\n",
    "    cpu_1_t = 1000 * cpu[op + '_time']\n",
    "    gpu_1_t = 1000 * gpu[op + '_time']\n",
    "    cpu_100_t = 1000 * cpu['batch_' + op + '_time']\n",
    "    gpu_100_t = 1000 * gpu['batch_' + op + '_time']\n",
    "    print('%s & %d & %d & %d & %d  \\\\\\\\ ' % (\n",
    "    op, cpu_1_t, gpu_1_t, cpu_100_t, gpu_100_t))\n",
    "for op in ['gram', 'tt_svd']:\n",
    "    cpu_1_t = 1000 * cpu[op + '_time']\n",
    "    gpu_1_t = 1000 * gpu[op + '_time']\n",
    "    print('%s & %d & %d & - & -  \\\\\\\\ ' % (\n",
    "    op, cpu_1_t, gpu_1_t))"
   ]
  },
  {
   "cell_type": "markdown",
   "metadata": {
    "collapsed": true,
    "deletable": true,
    "editable": true
   },
   "source": [
    "\\begin{center}\n",
    "  \\begin{tabular}{  c  c  c }\n",
    "    \\hline\n",
    "    Op & 1 object CPU & 1 object GPU & 100 objects CPU & 100 objects GPU  \\ \\hline\n",
    "matvec & 19.89 & 2.43 & 1655.06 & 81.40  \\\\ \n",
    "matmul & 147.38 & 8.23 & 20938.77 & 768.86  \\\\ \n",
    "norm & 5.19 & 8.20 & 43.99 & 39.00  \\\\ \n",
    "project & 2.48 & 9.14 & 106.24 & 12.72  \\\\ \n",
    "gram & 8397.09 & 82.72 & - & -  \\\\ \n",
    "tt_svd & 15.07 & 17.12 & - & -  \n",
    "    \\hline\n",
    "  \\end{tabular}\n",
    "\\end{center}"
   ]
  },
  {
   "cell_type": "code",
   "execution_count": null,
   "metadata": {
    "collapsed": true
   },
   "outputs": [],
   "source": []
  }
 ],
 "metadata": {
  "kernelspec": {
   "display_name": "Python 2",
   "language": "python",
   "name": "python2"
  },
  "language_info": {
   "codemirror_mode": {
    "name": "ipython",
    "version": 2
   },
   "file_extension": ".py",
   "mimetype": "text/x-python",
   "name": "python",
   "nbconvert_exporter": "python",
   "pygments_lexer": "ipython2",
   "version": "2.7.13"
  }
 },
 "nbformat": 4,
 "nbformat_minor": 2
}
