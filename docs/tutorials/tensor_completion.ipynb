{
 "cells": [
  {
   "cell_type": "markdown",
   "metadata": {},
   "source": [
    "# Tensor completion (example of minimizing a loss w.r.t. TT-tensor)\n",
    "\n",
    "[Open](https://colab.research.google.com/github/Bihaqo/t3f/blob/develop/docs/tutorials/tensor_completion.ipynb) **this page in an interactive mode via Google Colaboratory.**\n",
    "\n",
    "In this example we will see how can we do tensor completion with t3f, i.e. observe a fraction of values in a tensor and recover the rest by assuming that the original tensor has low TT-rank.\n",
    "Mathematically it means that we have a binary mask $P$ and a ground truth tensor $A$, but we observe only a noisy and sparsified version of $A$: $P \\odot (\\hat{A})$, where $\\odot$ is the elementwise product (applying the binary mask) and $\\hat{A} = A + \\text{noise}$. In this case our task reduces to the following optimization problem:\n",
    "\\begin{equation*}\n",
    "\\begin{aligned}\n",
    "& \\underset{X}{\\text{minimize}} \n",
    "& & \\|P \\odot (X - \\hat{A})\\|_F^2 \\\\\n",
    "& \\text{subject to} \n",
    "& & \\text{tt_rank}(X) \\leq r_0\n",
    "\\end{aligned}\n",
    "\\end{equation*}\n",
    "\n"
   ]
  },
  {
   "cell_type": "code",
   "execution_count": 1,
   "metadata": {
    "collapsed": true
   },
   "outputs": [],
   "source": [
    "import numpy as np\n",
    "import tensorflow as tf\n",
    "tf.set_random_seed(0)\n",
    "np.random.seed(0)\n",
    "%matplotlib inline\n",
    "import matplotlib.pyplot as plt\n",
    "\n",
    "try:\n",
    "    import t3f\n",
    "except ImportError:\n",
    "    # Install T3F if it's not already installed.\n",
    "    !git clone https://github.com/Bihaqo/t3f.git\n",
    "    !cd t3f; pip install .\n",
    "    import t3f"
   ]
  },
  {
   "cell_type": "markdown",
   "metadata": {},
   "source": [
    "**Generating problem instance**\n",
    "\n",
    "Lets generate a random matrix $A$, noise, and mask $P$."
   ]
  },
  {
   "cell_type": "code",
   "execution_count": 2,
   "metadata": {
    "collapsed": true
   },
   "outputs": [],
   "source": [
    "shape = (3, 4, 4, 5, 7, 5)\n",
    "# Fix random seed so the results are comparable between runs.\n",
    "tf.set_random_seed(0)\n",
    "# Generate ground truth tensor A. To make sure that it has low TT-rank,\n",
    "# let's generate a random tt-rank 5 tensor and apply t3f.full to it to convert to actual tensor.\n",
    "ground_truth = t3f.full(t3f.random_tensor(shape, tt_rank=5))\n",
    "# Make a (non trainable) variable out of ground truth. Otherwise, it will be randomly regenerated on each sess.run.\n",
    "ground_truth = tf.get_variable('ground_truth', initializer=ground_truth, trainable=False)\n",
    "noise = 1e-2 * tf.get_variable('noise', initializer=tf.random_normal(shape), trainable=False)\n",
    "noisy_ground_truth = ground_truth + noise\n",
    "# Observe 25% of the tensor values.\n",
    "sparsity_mask = tf.cast(tf.random_uniform(shape) <= 0.25, tf.float32)\n",
    "sparsity_mask = tf.get_variable('sparsity_mask', initializer=sparsity_mask, trainable=False)\n",
    "sparse_observation = noisy_ground_truth * sparsity_mask"
   ]
  },
  {
   "cell_type": "markdown",
   "metadata": {},
   "source": [
    "**Initialize the variable and compute the loss**"
   ]
  },
  {
   "cell_type": "code",
   "execution_count": 3,
   "metadata": {
    "collapsed": true
   },
   "outputs": [],
   "source": [
    "observed_total = tf.reduce_sum(sparsity_mask)\n",
    "total = np.prod(shape)\n",
    "initialization = t3f.random_tensor(shape, tt_rank=5)\n",
    "estimated = t3f.get_variable('estimated', initializer=initialization)\n",
    "# Loss is MSE between the estimated and ground-truth tensor as computed in the observed cells.\n",
    "loss = 1.0 / observed_total * tf.reduce_sum((sparsity_mask * t3f.full(estimated) - sparse_observation)**2)\n",
    "# Test loss is MSE between the estimated tensor and full (and not noisy) ground-truth tensor A.\n",
    "test_loss = 1.0 / total * tf.reduce_sum((t3f.full(estimated) - ground_truth)**2)"
   ]
  },
  {
   "cell_type": "markdown",
   "metadata": {},
   "source": [
    "SGD optimization\n",
    "-------------------------\n",
    "The simplest way to solve the optimization problem is Stochastic Gradient Descent: let TensorFlow differentiate the loss w.r.t. the factors (cores) of the TensorTrain decomposition of the estimated tensor and minimize the loss with your favourite SGD variation."
   ]
  },
  {
   "cell_type": "code",
   "execution_count": 4,
   "metadata": {
    "collapsed": true
   },
   "outputs": [],
   "source": [
    "optimizer = tf.train.AdamOptimizer(learning_rate=0.01)\n",
    "step = optimizer.minimize(loss)"
   ]
  },
  {
   "cell_type": "code",
   "execution_count": 5,
   "metadata": {},
   "outputs": [
    {
     "name": "stdout",
     "output_type": "stream",
     "text": [
      "0 2.20282 2.26653\n",
      "1000 0.00158865 0.00234495\n",
      "2000 0.000334849 0.00045755\n",
      "3000 9.98362e-05 5.27664e-05\n",
      "4000 8.28005e-05 2.14205e-05\n",
      "5000 8.17184e-05 2.07301e-05\n",
      "6000 8.57184e-05 2.59403e-05\n",
      "7000 8.1738e-05 2.07167e-05\n",
      "8000 0.000102493 4.31596e-05\n",
      "9000 8.5987e-05 2.29819e-05\n"
     ]
    }
   ],
   "source": [
    "sess = tf.Session()\n",
    "sess.run(tf.global_variables_initializer())\n",
    "train_loss_hist = []\n",
    "test_loss_hist = []\n",
    "for i in range(10000):\n",
    "    _, tr_loss_v, test_loss_v = sess.run([step, loss, test_loss])\n",
    "    train_loss_hist.append(tr_loss_v)\n",
    "    test_loss_hist.append(test_loss_v)\n",
    "    if i % 1000 == 0:\n",
    "        print(i, tr_loss_v, test_loss_v)"
   ]
  },
  {
   "cell_type": "code",
   "execution_count": 6,
   "metadata": {},
   "outputs": [
    {
     "data": {
      "text/plain": [
       "<matplotlib.legend.Legend at 0x1821244048>"
      ]
     },
     "execution_count": 6,
     "metadata": {},
     "output_type": "execute_result"
    },
    {
     "data": {
      "image/png": "[encoded data removed]",
      "text/plain": [
       "<matplotlib.figure.Figure at 0x18208f6dd8>"
      ]
     },
     "metadata": {},
     "output_type": "display_data"
    }
   ],
   "source": [
    "plt.loglog(train_loss_hist, label='train')\n",
    "plt.loglog(test_loss_hist, label='test')\n",
    "plt.xlabel('Iteration')\n",
    "plt.ylabel('MSE Loss value')\n",
    "plt.title('SGD completion')\n",
    "plt.legend()\n"
   ]
  },
  {
   "cell_type": "markdown",
   "metadata": {},
   "source": [
    "Speeding it up\n",
    "--------------------\n",
    "The simple solution we have so far assumes that loss is computed by materializing the full estimated tensor and then zeroing out unobserved elements. If the tensors are really large and the fraction of observerd values is small (e.g. less than 1%), it may be much more efficient to directly work only with the observed elements."
   ]
  },
  {
   "cell_type": "code",
   "execution_count": 7,
   "metadata": {
    "collapsed": true
   },
   "outputs": [],
   "source": [
    "tf.reset_default_graph()\n",
    "\n",
    "shape = (10, 10, 10, 10, 10, 10, 10)\n",
    "\n",
    "total_observed = np.prod(shape)\n",
    "# Since now the tensor is too large to work with explicitly,\n",
    "# we don't want to generate binary mask,\n",
    "# but we would rather generate indecies of observed cells.\n",
    "\n",
    "ratio = 0.001\n",
    "\n",
    "# Let us simply randomly pick some indecies (it may happen\n",
    "# that we will get duplicates but probability of that\n",
    "# is 10^(-14) so lets not bother for now)\n",
    "\n",
    "num_observed = int(ratio * total_observed)\n",
    "observation_idx = np.random.randint(0, 10, size=(num_observed, len(shape)))\n",
    "# and let us generate some values of the tensor to be approximated\n",
    "observations = np.random.randn(num_observed)\n"
   ]
  },
  {
   "cell_type": "code",
   "execution_count": 8,
   "metadata": {
    "collapsed": true
   },
   "outputs": [],
   "source": [
    "# Our strategy is to feed the observation_idx\n",
    "# into the tensor in the Tensor Train format and compute MSE between\n",
    "# the obtained values and the desired values"
   ]
  },
  {
   "cell_type": "code",
   "execution_count": 9,
   "metadata": {
    "collapsed": true
   },
   "outputs": [],
   "source": [
    "initialization = t3f.random_tensor(shape, tt_rank=16)\n",
    "estimated = t3f.get_variable('estimated', initializer=initialization)"
   ]
  },
  {
   "cell_type": "code",
   "execution_count": 10,
   "metadata": {
    "collapsed": true
   },
   "outputs": [],
   "source": [
    "# To collect the values of a TT tensor (withour forming the full tensor)\n",
    "# we use the function t3f.gather_nd"
   ]
  },
  {
   "cell_type": "code",
   "execution_count": 11,
   "metadata": {
    "collapsed": true
   },
   "outputs": [],
   "source": [
    "estimated_vals = t3f.gather_nd(estimated, observation_idx)\n",
    "loss = tf.reduce_mean((estimated_vals - observations) ** 2)"
   ]
  },
  {
   "cell_type": "code",
   "execution_count": 12,
   "metadata": {
    "collapsed": true
   },
   "outputs": [],
   "source": [
    "optimizer = tf.train.AdamOptimizer(learning_rate=0.01)\n",
    "step = optimizer.minimize(loss)"
   ]
  },
  {
   "cell_type": "code",
   "execution_count": 13,
   "metadata": {},
   "outputs": [
    {
     "name": "stdout",
     "output_type": "stream",
     "text": [
      "0 1.64438\n",
      "100 0.0472497\n",
      "200 0.00913698\n",
      "300 0.00306178\n",
      "400 0.00155388\n",
      "500 0.000971667\n",
      "600 0.000669613\n",
      "700 0.000499607\n",
      "800 0.000437507\n",
      "900 0.000346848\n",
      "1000 0.000325652\n",
      "1100 0.000275839\n",
      "1200 0.000247506\n",
      "1300 0.000410816\n",
      "1400 0.000331641\n",
      "1500 0.000296677\n",
      "1600 0.00025365\n",
      "1700 0.000210029\n",
      "1800 0.000216491\n",
      "1900 0.000312779\n"
     ]
    }
   ],
   "source": [
    "sess = tf.Session()\n",
    "sess.run(tf.global_variables_initializer())\n",
    "loss_hist = []\n",
    "\n",
    "for i in range(2000):\n",
    "    _, loss_v = sess.run([step, loss])\n",
    "    loss_hist.append(loss_v)\n",
    "\n",
    "    if i % 100 == 0:\n",
    "        print(i, loss_v)"
   ]
  },
  {
   "cell_type": "code",
   "execution_count": 14,
   "metadata": {},
   "outputs": [
    {
     "data": {
      "image/png": "[encoded data removed]",
      "text/plain": [
       "<matplotlib.figure.Figure at 0x1821c120f0>"
      ]
     },
     "metadata": {},
     "output_type": "display_data"
    }
   ],
   "source": [
    "plt.loglog(loss_hist)\n",
    "plt.xlabel('Iteration')\n",
    "plt.ylabel('MSE Loss value')\n",
    "plt.title('smarter SGD completion')\n",
    "plt.legend()"
   ]
  },
  {
   "cell_type": "code",
   "execution_count": 15,
   "metadata": {},
   "outputs": [
    {
     "name": "stdout",
     "output_type": "stream",
     "text": [
      "[-0.10904536 -1.38673067 -0.53866088 ..., -0.0059163   0.22185898\n",
      "  0.74981755]\n"
     ]
    }
   ],
   "source": [
    "print(sess.run(t3f.gather_nd(estimated, observation_idx)))"
   ]
  },
  {
   "cell_type": "code",
   "execution_count": 16,
   "metadata": {},
   "outputs": [
    {
     "name": "stdout",
     "output_type": "stream",
     "text": [
      "[ -1.27225139e-01  -1.37794858e+00  -5.42469328e-01 ...,  -1.30643336e-03\n",
      "   2.35629296e-01   7.53320726e-01]\n"
     ]
    }
   ],
   "source": [
    "print(observations)"
   ]
  },
  {
   "cell_type": "code",
   "execution_count": null,
   "metadata": {
    "collapsed": true
   },
   "outputs": [],
   "source": []
  }
 ],
 "metadata": {
  "kernelspec": {
   "display_name": "Python 3",
   "language": "python",
   "name": "python3"
  },
  "language_info": {
   "codemirror_mode": {
    "name": "ipython",
    "version": 3
   },
   "file_extension": ".py",
   "mimetype": "text/x-python",
   "name": "python",
   "nbconvert_exporter": "python",
   "pygments_lexer": "ipython3",
   "version": "3.6.5"
  }
 },
 "nbformat": 4,
 "nbformat_minor": 2
}
