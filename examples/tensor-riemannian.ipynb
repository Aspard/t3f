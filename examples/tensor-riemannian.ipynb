{
 "cells": [
  {
   "cell_type": "code",
   "execution_count": 1,
   "metadata": {
    "collapsed": true
   },
   "outputs": [],
   "source": [
    "import t3f\n",
    "import tensorflow as tf\n",
    "import numpy as np\n",
    "import matplotlib.pyplot as plt\n",
    "%matplotlib inline"
   ]
  },
  {
   "cell_type": "markdown",
   "metadata": {},
   "source": [
    "# Riemannian optimization"
   ]
  },
  {
   "cell_type": "markdown",
   "metadata": {},
   "source": [
    "Riemannian optimization is a framework for solving optimization problems with a constraint that the solution belongs to a manifold. \n",
    "\n",
    "Let us consider the following problem. Given some TT tensor $A$ with large tt-ranks we would like to find a tensor $X$ (with small prescribed tt-ranks $r$) which is closest to $A$ (in the sense of Frobenius norm). Mathematically it can be written as follows:\n",
    "\\begin{equation*}\n",
    "\\begin{aligned}\n",
    "& \\underset{X}{\\text{minimize}} \n",
    "& & \\frac{1}{2}\\|X - A\\|_F^2 \\\\\n",
    "& \\text{subject to} \n",
    "& & \\text{tt_rank}(X) = r\n",
    "\\end{aligned}\n",
    "\\end{equation*}\n",
    "\n",
    "It is known that the set of TT tensors with elementwise fixed TT ranks forms a manifold. Thus we can solve this problem using the so called Riemannian gradient descent. Given some functional $F$ on a manifold $\\mathcal{M}$  it is defined as\n",
    "$$\\hat{x}_{k+1} = x_{k} - \\alpha P_{T_{x_k}\\mathcal{M}} \\nabla F(x_k),$$\n",
    "$$x_{k+1} = \\mathcal{R}(\\hat{x}_{k+1})$$\n",
    "with $P_{T_{x_k}\\mathcal{M}}$ being the projection onto the tangent space of $\\mathcal{M}$ at the point $x_k$ and $\\mathcal{R}$ being a retraction - an operation which projects points to the manifold, and $\\alpha$ is the learning rate.\n",
    "\n",
    "We can implement this in `t3f` using the `t3f.riemannian` module. As a retraction it is convenient to use the rounding method (`t3f.round`)."
   ]
  },
  {
   "cell_type": "code",
   "execution_count": 2,
   "metadata": {
    "collapsed": true
   },
   "outputs": [],
   "source": [
    "sess = tf.InteractiveSession()"
   ]
  },
  {
   "cell_type": "code",
   "execution_count": 3,
   "metadata": {
    "collapsed": true
   },
   "outputs": [],
   "source": [
    "# Initialize A randomly, with large tt-ranks\n",
    "shape = 10 * [2]\n",
    "init_A = t3f.random_tensor(shape, tt_rank=16)\n",
    "A = t3f.get_variable('A', initializer=init_A, trainable=False)"
   ]
  },
  {
   "cell_type": "code",
   "execution_count": 4,
   "metadata": {
    "collapsed": true
   },
   "outputs": [],
   "source": [
    "# Create an X variable and compute the gradient of the functional. Note that it is simply X - A.\n",
    "\n",
    "init_X = t3f.random_tensor(shape, tt_rank=2)\n",
    "X = t3f.get_variable('X', initializer=init_X)\n",
    "\n",
    "gradF = X - A"
   ]
  },
  {
   "cell_type": "code",
   "execution_count": 5,
   "metadata": {
    "collapsed": true
   },
   "outputs": [],
   "source": [
    "# Let us compute the projection of the gradient onto the tangent space at X"
   ]
  },
  {
   "cell_type": "code",
   "execution_count": 6,
   "metadata": {
    "collapsed": true
   },
   "outputs": [],
   "source": [
    "riemannian_grad = t3f.riemannian.project(gradF, X)"
   ]
  },
  {
   "cell_type": "code",
   "execution_count": 7,
   "metadata": {
    "collapsed": true
   },
   "outputs": [],
   "source": [
    "# Compute the update by subtracting the Riemannian gradient\n",
    "# and retracting back to the manifold\n",
    "alpha = 1.0\n",
    "\n",
    "train_step = t3f.assign(X, t3f.round(X - alpha * riemannian_grad, max_tt_rank=2))"
   ]
  },
  {
   "cell_type": "code",
   "execution_count": 8,
   "metadata": {
    "collapsed": true
   },
   "outputs": [],
   "source": [
    "# let us also compute the value of the functional\n",
    "# to see if it is decreasing\n",
    "F = 0.5 * t3f.frobenius_norm_squared(X - A)"
   ]
  },
  {
   "cell_type": "code",
   "execution_count": 9,
   "metadata": {
    "collapsed": true
   },
   "outputs": [],
   "source": [
    "sess.run(tf.global_variables_initializer())"
   ]
  },
  {
   "cell_type": "code",
   "execution_count": 10,
   "metadata": {},
   "outputs": [
    {
     "name": "stdout",
     "output_type": "stream",
     "text": [
      "1114.92\n",
      "728.428\n",
      "680.88\n",
      "679.751\n",
      "679.742\n",
      "679.742\n",
      "679.742\n",
      "679.742\n",
      "679.742\n",
      "679.742\n"
     ]
    }
   ],
   "source": [
    "log = []\n",
    "for i in range(100):\n",
    "    F_v, _ = sess.run([F, train_step.op])\n",
    "    if i % 10 == 0:\n",
    "        print (F_v)\n",
    "    log.append(F_v)"
   ]
  },
  {
   "cell_type": "markdown",
   "metadata": {},
   "source": [
    "It is intructive to compare the obtained result with the quasioptimum delivered by the TT-round procedure. "
   ]
  },
  {
   "cell_type": "code",
   "execution_count": 11,
   "metadata": {},
   "outputs": [
    {
     "name": "stdout",
     "output_type": "stream",
     "text": [
      "716.919\n"
     ]
    }
   ],
   "source": [
    "quasi_sol = t3f.round(A, max_tt_rank=2)\n",
    "\n",
    "val = sess.run(0.5 * t3f.frobenius_norm_squared(quasi_sol - A))\n",
    "print (val)"
   ]
  },
  {
   "cell_type": "markdown",
   "metadata": {},
   "source": [
    "We see that the value is slightly bigger than the exact minimum, but TT-round is faster and cheaper to compute, so it is often used in practice."
   ]
  },
  {
   "cell_type": "code",
   "execution_count": 12,
   "metadata": {},
   "outputs": [
    {
     "data": {
      "text/plain": [
       "<matplotlib.legend.Legend at 0x182022f630>"
      ]
     },
     "execution_count": 12,
     "metadata": {},
     "output_type": "execute_result"
    },
    {
     "data": {
      "image/png": "[encoded data removed]",
      "text/plain": [
       "<matplotlib.figure.Figure at 0x181f327a20>"
      ]
     },
     "metadata": {},
     "output_type": "display_data"
    }
   ],
   "source": [
    "plt.semilogy(log, label='Riemannian gradient descent')\n",
    "plt.axhline(y=val, lw=1, ls='--', color='gray', label='TT-round(A)')\n",
    "plt.xlabel('Iteration')\n",
    "plt.ylabel('Value of the functional')\n",
    "plt.legend()"
   ]
  },
  {
   "cell_type": "code",
   "execution_count": null,
   "metadata": {
    "collapsed": true
   },
   "outputs": [],
   "source": []
  }
 ],
 "metadata": {
  "kernelspec": {
   "display_name": "Environment (conda_tf)",
   "language": "python",
   "name": "conda_tf"
  },
  "language_info": {
   "codemirror_mode": {
    "name": "ipython",
    "version": 3
   },
   "file_extension": ".py",
   "mimetype": "text/x-python",
   "name": "python",
   "nbconvert_exporter": "python",
   "pygments_lexer": "ipython3",
   "version": "3.6.3"
  }
 },
 "nbformat": 4,
 "nbformat_minor": 2
}
